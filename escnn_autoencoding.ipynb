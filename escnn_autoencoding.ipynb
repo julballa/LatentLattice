{
  "nbformat": 4,
  "nbformat_minor": 0,
  "metadata": {
    "colab": {
      "provenance": [],
      "collapsed_sections": [
        "YauIZ8KLA7kY"
      ],
      "include_colab_link": true
    },
    "kernelspec": {
      "name": "python3",
      "display_name": "Python 3"
    },
    "language_info": {
      "name": "python"
    }
  },
  "cells": [
    {
      "cell_type": "markdown",
      "metadata": {
        "id": "view-in-github",
        "colab_type": "text"
      },
      "source": [
        "<a href=\"https://colab.research.google.com/github/julballa/LatentLattice/blob/main/escnn_autoencoder.ipynb\" target=\"_parent\"><img src=\"https://colab.research.google.com/assets/colab-badge.svg\" alt=\"Open In Colab\"/></a>"
      ]
    },
    {
      "cell_type": "markdown",
      "source": [
        "# Install dependencies"
      ],
      "metadata": {
        "id": "hrjmbVb-MSMW"
      }
    },
    {
      "cell_type": "code",
      "source": [
        "from google.colab import drive\n",
        "drive.mount('/content/drive')\n",
        "\n",
        "# set current directory\n",
        "# this should be the Google Drive folder where your file(s) are located\n",
        "%cd /content/drive/MyDrive/lattices\n",
        "\n",
        "## verify current directory\n",
        "!ls /content/drive/MyDrive/lattices\n",
        "\n",
        "# choose where you want your project files to be saved\n",
        "project_folder = \"/content/drive/MyDrive/lattices\""
      ],
      "metadata": {
        "colab": {
          "base_uri": "https://localhost:8080/"
        },
        "id": "d6aKrI1ZvroP",
        "outputId": "cef3af1e-45df-417d-9240-01de7d1bb8d5"
      },
      "execution_count": null,
      "outputs": [
        {
          "output_type": "stream",
          "name": "stdout",
          "text": [
            "Drive already mounted at /content/drive; to attempt to forcibly remount, call drive.mount(\"/content/drive\", force_remount=True).\n",
            "/content/drive/MyDrive/lattices\n",
            "12x12_train.pt\tising_train.pt\tten_square_test.pt   ten_square_val.pt\n",
            "12x12_val.pt\tising_val.pt\tten_square_train.pt\n"
          ]
        }
      ]
    },
    {
      "cell_type": "code",
      "source": [
        "!pip install git+https://github.com/AMLab-Amsterdam/lie_learn escnn"
      ],
      "metadata": {
        "colab": {
          "base_uri": "https://localhost:8080/"
        },
        "id": "YGO5Cszxeyn7",
        "outputId": "5cb68068-d8da-4f95-fa46-c28b38a55a35"
      },
      "execution_count": null,
      "outputs": [
        {
          "output_type": "stream",
          "name": "stdout",
          "text": [
            "Collecting git+https://github.com/AMLab-Amsterdam/lie_learn\n",
            "  Cloning https://github.com/AMLab-Amsterdam/lie_learn to /tmp/pip-req-build-tq7j1x36\n",
            "  Running command git clone --filter=blob:none --quiet https://github.com/AMLab-Amsterdam/lie_learn /tmp/pip-req-build-tq7j1x36\n",
            "  Resolved https://github.com/AMLab-Amsterdam/lie_learn to commit 1ccc2106e402d517a29de5438c9367c959e67338\n",
            "  Installing build dependencies ... \u001b[?25l\u001b[?25hdone\n",
            "  Getting requirements to build wheel ... \u001b[?25l\u001b[?25hdone\n",
            "  Installing backend dependencies ... \u001b[?25l\u001b[?25hdone\n",
            "  Preparing metadata (pyproject.toml) ... \u001b[?25l\u001b[?25hdone\n",
            "Requirement already satisfied: escnn in /usr/local/lib/python3.10/dist-packages (1.0.11)\n",
            "Requirement already satisfied: requests in /usr/local/lib/python3.10/dist-packages (from lie_learn==0.0.1.post1) (2.31.0)\n",
            "Requirement already satisfied: numpy in /usr/local/lib/python3.10/dist-packages (from lie_learn==0.0.1.post1) (1.25.2)\n",
            "Requirement already satisfied: scipy in /usr/local/lib/python3.10/dist-packages (from lie_learn==0.0.1.post1) (1.9.3)\n",
            "Requirement already satisfied: torch>=1.3 in /usr/local/lib/python3.10/dist-packages (from escnn) (2.2.1+cu121)\n",
            "Requirement already satisfied: joblib in /usr/local/lib/python3.10/dist-packages (from escnn) (1.4.2)\n",
            "Requirement already satisfied: pymanopt in /usr/local/lib/python3.10/dist-packages (from escnn) (2.2.0)\n",
            "Requirement already satisfied: autograd in /usr/local/lib/python3.10/dist-packages (from escnn) (1.6.2)\n",
            "Requirement already satisfied: py3nj in /usr/local/lib/python3.10/dist-packages (from escnn) (0.2.1)\n",
            "Requirement already satisfied: filelock in /usr/local/lib/python3.10/dist-packages (from torch>=1.3->escnn) (3.14.0)\n",
            "Requirement already satisfied: typing-extensions>=4.8.0 in /usr/local/lib/python3.10/dist-packages (from torch>=1.3->escnn) (4.11.0)\n",
            "Requirement already satisfied: sympy in /usr/local/lib/python3.10/dist-packages (from torch>=1.3->escnn) (1.12)\n",
            "Requirement already satisfied: networkx in /usr/local/lib/python3.10/dist-packages (from torch>=1.3->escnn) (3.3)\n",
            "Requirement already satisfied: jinja2 in /usr/local/lib/python3.10/dist-packages (from torch>=1.3->escnn) (3.1.4)\n",
            "Requirement already satisfied: fsspec in /usr/local/lib/python3.10/dist-packages (from torch>=1.3->escnn) (2023.6.0)\n",
            "Requirement already satisfied: nvidia-cuda-nvrtc-cu12==12.1.105 in /usr/local/lib/python3.10/dist-packages (from torch>=1.3->escnn) (12.1.105)\n",
            "Requirement already satisfied: nvidia-cuda-runtime-cu12==12.1.105 in /usr/local/lib/python3.10/dist-packages (from torch>=1.3->escnn) (12.1.105)\n",
            "Requirement already satisfied: nvidia-cuda-cupti-cu12==12.1.105 in /usr/local/lib/python3.10/dist-packages (from torch>=1.3->escnn) (12.1.105)\n",
            "Requirement already satisfied: nvidia-cudnn-cu12==8.9.2.26 in /usr/local/lib/python3.10/dist-packages (from torch>=1.3->escnn) (8.9.2.26)\n",
            "Requirement already satisfied: nvidia-cublas-cu12==12.1.3.1 in /usr/local/lib/python3.10/dist-packages (from torch>=1.3->escnn) (12.1.3.1)\n",
            "Requirement already satisfied: nvidia-cufft-cu12==11.0.2.54 in /usr/local/lib/python3.10/dist-packages (from torch>=1.3->escnn) (11.0.2.54)\n",
            "Requirement already satisfied: nvidia-curand-cu12==10.3.2.106 in /usr/local/lib/python3.10/dist-packages (from torch>=1.3->escnn) (10.3.2.106)\n",
            "Requirement already satisfied: nvidia-cusolver-cu12==11.4.5.107 in /usr/local/lib/python3.10/dist-packages (from torch>=1.3->escnn) (11.4.5.107)\n",
            "Requirement already satisfied: nvidia-cusparse-cu12==12.1.0.106 in /usr/local/lib/python3.10/dist-packages (from torch>=1.3->escnn) (12.1.0.106)\n",
            "Requirement already satisfied: nvidia-nccl-cu12==2.19.3 in /usr/local/lib/python3.10/dist-packages (from torch>=1.3->escnn) (2.19.3)\n",
            "Requirement already satisfied: nvidia-nvtx-cu12==12.1.105 in /usr/local/lib/python3.10/dist-packages (from torch>=1.3->escnn) (12.1.105)\n",
            "Requirement already satisfied: triton==2.2.0 in /usr/local/lib/python3.10/dist-packages (from torch>=1.3->escnn) (2.2.0)\n",
            "Requirement already satisfied: nvidia-nvjitlink-cu12 in /usr/local/lib/python3.10/dist-packages (from nvidia-cusolver-cu12==11.4.5.107->torch>=1.3->escnn) (12.4.127)\n",
            "Requirement already satisfied: future>=0.15.2 in /usr/local/lib/python3.10/dist-packages (from autograd->escnn) (0.18.3)\n",
            "Requirement already satisfied: charset-normalizer<4,>=2 in /usr/local/lib/python3.10/dist-packages (from requests->lie_learn==0.0.1.post1) (3.3.2)\n",
            "Requirement already satisfied: idna<4,>=2.5 in /usr/local/lib/python3.10/dist-packages (from requests->lie_learn==0.0.1.post1) (3.7)\n",
            "Requirement already satisfied: urllib3<3,>=1.21.1 in /usr/local/lib/python3.10/dist-packages (from requests->lie_learn==0.0.1.post1) (2.0.7)\n",
            "Requirement already satisfied: certifi>=2017.4.17 in /usr/local/lib/python3.10/dist-packages (from requests->lie_learn==0.0.1.post1) (2024.2.2)\n",
            "Requirement already satisfied: MarkupSafe>=2.0 in /usr/local/lib/python3.10/dist-packages (from jinja2->torch>=1.3->escnn) (2.1.5)\n",
            "Requirement already satisfied: mpmath>=0.19 in /usr/local/lib/python3.10/dist-packages (from sympy->torch>=1.3->escnn) (1.3.0)\n"
          ]
        }
      ]
    },
    {
      "cell_type": "markdown",
      "source": [
        "# Define model"
      ],
      "metadata": {
        "id": "uSx8pIYWAN2W"
      }
    },
    {
      "cell_type": "code",
      "source": [
        "\n",
        "import torch.nn as nn\n",
        "from escnn.nn import R3Conv, R3ConvTransposed, LeakyReLU, GroupPooling, GeometricTensor, FieldType\n",
        "from escnn.gspaces.r3 import flipRot3dOnR3\n",
        "# 2D data imports\n",
        "from escnn.nn import R2Conv, R2ConvTransposed, PointwiseAvgPool2D, R2Upsampling, PointwiseMaxPool2D\n",
        "from escnn.gspaces import flipRot2dOnR2\n",
        "\n",
        "# Encoder -- 2 layer network\n",
        "class Encoder(nn.Module):\n",
        "    def __init__(self, in_type, out_type):\n",
        "        super().__init__()\n",
        "        out_type_1 = FieldType(flipRot2dOnR2(N=4), [flipRot2dOnR2(N=4).regular_repr]*64)\n",
        "        self.conv1 = R2Conv(in_type, out_type_1, kernel_size=3, stride=1)\n",
        "        self.act1 = LeakyReLU(out_type_1)\n",
        "        out_type_2 = FieldType(flipRot2dOnR2(N=4), [flipRot2dOnR2(N=4).regular_repr]*64)\n",
        "        self.conv2 = R2Conv(out_type_2, out_type_2, kernel_size=3, stride=1)\n",
        "        self.act2 = LeakyReLU(out_type_2)\n",
        "        self.gpool = GroupPooling(out_type_2)\n",
        "        self.pool = PointwiseAvgPool2D(out_type_2, kernel_size=3, stride=1)\n",
        "\n",
        "\n",
        "    def forward(self, x):\n",
        "        x = self.conv1(x)\n",
        "        x = self.act1(x)\n",
        "        x = self.pool(x)\n",
        "        x = self.conv2(x)\n",
        "        x = self.act2(x)\n",
        "        return x\n",
        "\n",
        "# Decoder\n",
        "class Decoder(nn.Module):\n",
        "    def __init__(self, in_type, out_type):\n",
        "        super().__init__()\n",
        "        in_type_1 = FieldType(flipRot2dOnR2(N=4), [flipRot2dOnR2(N=4).regular_repr]*64)\n",
        "        self.conv1 = R2ConvTransposed(in_type_1, out_type, kernel_size=3, stride=1)\n",
        "        self.act1 = LeakyReLU(out_type)\n",
        "        # in_type_2 = FieldType(flipRot2dOnR2(N=4), [flipRot2dOnR2(N=4).regular_repr]*32)\n",
        "        self.conv2 = R2ConvTransposed(out_type, out_type, kernel_size=3, stride=1)\n",
        "        self.pool = R2Upsampling(out_type, scale_factor=1.25)\n",
        "        self.gpool = GroupPooling(out_type)\n",
        "\n",
        "\n",
        "\n",
        "    def forward(self, x):\n",
        "        x = self.conv1(x)\n",
        "        self.act1 = LeakyReLU(out_type)\n",
        "        x = self.pool(x)\n",
        "        x = self.conv2(x)\n",
        "        x = self.gpool(x)\n",
        "        return x\n",
        "\n",
        "class AutoEncoder(nn.Module):\n",
        "    def __init__(self, in_type, out_type, latent_type):\n",
        "        super().__init__()\n",
        "        self.in_type = in_type\n",
        "        self.out_type = out_type\n",
        "        self.latent_type = latent_type\n",
        "\n",
        "        self.encoder = Encoder(in_type, latent_type)\n",
        "        self.decoder = Decoder(latent_type, out_type)\n",
        "\n",
        "    def forward(self, x):\n",
        "        x = GeometricTensor(x, self.in_type)\n",
        "        z = self.encoder(x)\n",
        "        x_hat = self.decoder(z)\n",
        "        return x_hat.tensor"
      ],
      "metadata": {
        "id": "98hB2QoEr7os"
      },
      "execution_count": null,
      "outputs": []
    },
    {
      "cell_type": "code",
      "source": [
        "# import torch.nn as nn\n",
        "# from escnn.nn import R2Conv, R2ConvTransposed, LeakyReLU, GroupPooling, GeometricTensor, FieldType, IIDBatchNorm2d, PointwiseMaxPool2D, R2Upsampling, PointwiseAvgPool2D\n",
        "# from escnn.gspaces import rot2dOnR2, flipRot2dOnR2\n",
        "\n",
        "# # Encoder -- 2 layer with Batch Norm\n",
        "# class Encoder(nn.Module):\n",
        "#     def __init__(self, in_type, out_type):\n",
        "#         super().__init__()\n",
        "#         out_type_1 = FieldType(flipRot2dOnR2(N=4), [flipRot2dOnR2(N=4).regular_repr]*64)\n",
        "#         self.conv1 = R2Conv(in_type, out_type_1, kernel_size=3, stride=1)\n",
        "#         self.bn1 = IIDBatchNorm2d(out_type_1)\n",
        "#         self.act1 = LeakyReLU(out_type_1)\n",
        "#         out_type_2 = FieldType(flipRot2dOnR2(N=4), [flipRot2dOnR2(N=4).regular_repr]*64)\n",
        "#         self.conv2 = R2Conv(out_type_2, out_type_2, kernel_size=3, stride=1)\n",
        "#         self.bn2 = IIDBatchNorm2d(out_type_2)\n",
        "#         self.act2 = LeakyReLU(out_type_2)\n",
        "#         self.pool = PointwiseMaxPool2D(out_type_2, kernel_size=3, stride=1)\n",
        "#         self.gpool = GroupPooling(out_type_2)\n",
        "\n",
        "\n",
        "#     def forward(self, x):\n",
        "#         x = self.conv1(x)\n",
        "#         # print(\"Enc: after conv1\", x.shape)\n",
        "#         x = self.bn1(x)\n",
        "#         x = self.act1(x)\n",
        "#         x = self.pool(x)\n",
        "#         # x = self.gpool(x)\n",
        "\n",
        "#         # print(\"after pool\", x.shape)\n",
        "#         x = self.conv2(x)\n",
        "#         # print(\"after conv2\", x.shape)\n",
        "#         x = self.bn2(x)\n",
        "#         x = self.act2(x)\n",
        "#         return x\n",
        "\n",
        "# # Decoder\n",
        "# class Decoder(nn.Module):\n",
        "#     def __init__(self, in_type, out_type):\n",
        "#         super().__init__()\n",
        "#         in_type_1 = FieldType(flipRot2dOnR2(N=4), [flipRot2dOnR2(N=4).regular_repr]*64)\n",
        "#         self.conv1 = R2ConvTransposed(in_type_1, out_type, kernel_size=3, stride=1)\n",
        "#         self.bn1 = IIDBatchNorm2d(out_type)\n",
        "#         self.act1 = LeakyReLU(out_type)\n",
        "#         self.conv2 = R2ConvTransposed(out_type, out_type, kernel_size=3, stride=1)\n",
        "#         self.bn2 = IIDBatchNorm2d(out_type)\n",
        "#         self.pool = R2Upsampling(out_type, scale_factor=1.25)\n",
        "#         self.gpool = GroupPooling(out_type)\n",
        "\n",
        "\n",
        "\n",
        "\n",
        "#     def forward(self, x):\n",
        "#         x = self.conv1(x)\n",
        "#         # print(\"Dec: after conv1\", x.shape)\n",
        "#         x = self.bn1(x)\n",
        "#         # x = self.act1(x)\n",
        "#         x = self.pool(x)\n",
        "#         # print(\"after UN pool\", x.shape)\n",
        "#         x = self.conv2(x)\n",
        "#         x = self.gpool(x)\n",
        "#         # print(\"after conv2\", x.shape)\n",
        "#         # x = self.bn2(x)\n",
        "#         # x = self.act2(x)\n",
        "#         return x\n",
        "\n",
        "\n",
        "\n",
        "# class AutoEncoder(nn.Module):\n",
        "#     def __init__(self, in_type, out_type, latent_type):\n",
        "#         super().__init__()\n",
        "#         self.in_type = in_type\n",
        "#         self.out_type = out_type\n",
        "#         self.latent_type = latent_type\n",
        "\n",
        "#         self.encoder = Encoder(in_type, latent_type)\n",
        "#         self.decoder = Decoder(latent_type, out_type)\n",
        "\n",
        "#     def forward(self, x):\n",
        "#         x = GeometricTensor(x, self.in_type)\n",
        "#         z = self.encoder(x)\n",
        "#         x_hat = self.decoder(z)\n",
        "#         return x_hat.tensor\n"
      ],
      "metadata": {
        "id": "n7ZQNF9ntzGP"
      },
      "execution_count": null,
      "outputs": []
    },
    {
      "cell_type": "code",
      "source": [
        "# import torch.nn as nn\n",
        "# from escnn.nn import R2Conv, R2ConvTransposed, LeakyReLU, GroupPooling, GeometricTensor, FieldType\n",
        "# from escnn.gspaces import rot2dOnR2\n",
        "\n",
        "# # Encoder -- 3 layer network\n",
        "# class Encoder(nn.Module):\n",
        "#     def __init__(self, in_type, out_type):\n",
        "#         super().__init__()\n",
        "#         self.conv1 = R2Conv(in_type, out_type, kernel_size=3, stride=1)\n",
        "#         self.act1 = LeakyReLU(out_type)\n",
        "#         self.conv2 = R2Conv(out_type, out_type, kernel_size=3, stride=1)\n",
        "#         self.act2 = LeakyReLU(out_type)\n",
        "#         self.conv3 = R2Conv(out_type, out_type, kernel_size=3, stride=1)  # Additional layer\n",
        "#         self.act3 = LeakyReLU(out_type)\n",
        "#         self.pool = GroupPooling(out_type)\n",
        "\n",
        "#     def forward(self, x):\n",
        "#         x = self.conv1(x)\n",
        "#         x = self.act1(x)\n",
        "#         x = self.pool(x)\n",
        "#         x = self.conv2(x)\n",
        "#         x = self.act2(x)\n",
        "#         x = self.pool(x)\n",
        "#         x = self.conv3(x)\n",
        "#         x = self.act3(x)\n",
        "\n",
        "#         return x\n",
        "\n",
        "# # Decoder\n",
        "# class Decoder(nn.Module):\n",
        "#     def __init__(self, in_type, out_type):\n",
        "#         super().__init__()\n",
        "#         self.conv1 = R2ConvTransposed(in_type, out_type, kernel_size=3, stride=1)\n",
        "#         self.act1 = LeakyReLU(out_type)\n",
        "#         self.conv2 = R2ConvTransposed(out_type, out_type, kernel_size=3, stride=1)\n",
        "#         self.act2 = LeakyReLU(out_type)  # Additional activation\n",
        "#         self.conv3 = R2ConvTransposed(out_type, out_type, kernel_size=3, stride=1)  # Additional layer\n",
        "\n",
        "\n",
        "#     def forward(self, x):\n",
        "#         x = self.conv1(x)\n",
        "#         self.act1 = LeakyReLU(out_type)\n",
        "#         x = self.conv2(x)\n",
        "#         self.act2 = LeakyReLU(out_type)\n",
        "#         x = self.conv3(x) # Additional layer processing\n",
        "#         return x\n",
        "\n",
        "# class AutoEncoder(nn.Module):\n",
        "#     def __init__(self, in_type, out_type, latent_type):\n",
        "#         super().__init__()\n",
        "#         self.in_type = in_type\n",
        "#         self.out_type = out_type\n",
        "#         self.latent_type = latent_type\n",
        "\n",
        "#         self.encoder = Encoder(in_type, latent_type)\n",
        "#         self.decoder = Decoder(latent_type, out_type)\n",
        "\n",
        "#     def forward(self, x):\n",
        "#         x = GeometricTensor(x, self.in_type)\n",
        "#         z = self.encoder(x)\n",
        "#         x_hat = self.decoder(z)\n",
        "#         return x_hat.tensor\n"
      ],
      "metadata": {
        "id": "EhU9W5VAlPl5"
      },
      "execution_count": null,
      "outputs": []
    },
    {
      "cell_type": "code",
      "source": [
        "# import torch.nn as nn\n",
        "# from escnn.nn import R2Conv, R2ConvTransposed, LeakyReLU, GroupPooling, GeometricTensor, FieldType, IIDBatchNorm2d\n",
        "# from escnn.gspaces import rot2dOnR2\n",
        "\n",
        "# # Encoder -- 3 layer network with BatchNorm\n",
        "# class Encoder(nn.Module):\n",
        "#     def __init__(self, in_type, out_type):\n",
        "#         super().__init__()\n",
        "#         self.conv1 = R2Conv(in_type, out_type, kernel_size=3, stride=1)\n",
        "#         self.bn1 = IIDBatchNorm2d(out_type)\n",
        "#         self.act1 = LeakyReLU(out_type)\n",
        "#         self.conv2 = R2Conv(out_type, out_type, kernel_size=3, stride=1)\n",
        "#         self.bn2 = IIDBatchNorm2d(out_type)\n",
        "#         self.act2 = LeakyReLU(out_type)\n",
        "#         self.conv3 = R2Conv(out_type, out_type, kernel_size=3, stride=1)\n",
        "#         self.bn3 = IIDBatchNorm2d(out_type)\n",
        "#         self.act3 = LeakyReLU(out_type)\n",
        "#         self.pool = GroupPooling(out_type)\n",
        "\n",
        "#     def forward(self, x):\n",
        "#         x = self.conv1(x)\n",
        "#         x = self.bn1(x)\n",
        "#         x = self.act1(x)\n",
        "#         x = self.conv2(x)\n",
        "#         x = self.bn2(x)\n",
        "#         x = self.act2(x)\n",
        "#         x = self.conv3(x)\n",
        "#         x = self.bn3(x)\n",
        "#         x = self.act3(x)\n",
        "#         x = self.pool(x)\n",
        "#         return x\n",
        "\n",
        "# # Decoder\n",
        "# class Decoder(nn.Module):\n",
        "#     def __init__(self, in_type, out_type):\n",
        "#         super().__init__()\n",
        "#         self.conv1 = R2ConvTransposed(in_type, out_type, kernel_size=3, stride=1)\n",
        "#         self.bn1 = IIDBatchNorm2d(out_type)\n",
        "#         self.act1 = LeakyReLU(out_type)\n",
        "#         self.conv2 = R2ConvTransposed(out_type, out_type, kernel_size=3, stride=1)\n",
        "#         self.bn2 = IIDBatchNorm2d(out_type)\n",
        "#         self.act2 = LeakyReLU(out_type)\n",
        "#         self.conv3 = R2ConvTransposed(out_type, out_type, kernel_size=3, stride=1)\n",
        "#         self.bn3 = IIDBatchNorm2d(out_type)\n",
        "#         self.act3 = LeakyReLU(out_type)\n",
        "\n",
        "#     def forward(self, x):\n",
        "#         x = self.conv1(x)\n",
        "#         x = self.bn1(x)\n",
        "#         x = self.act1(x)\n",
        "#         x = self.conv2(x)\n",
        "#         x = self.bn2(x)\n",
        "#         x = self.act2(x)\n",
        "#         x = self.conv3(x)\n",
        "#         x = self.bn3(x)\n",
        "#         x = self.act3(x)\n",
        "#         return x\n",
        "\n",
        "# class AutoEncoder(nn.Module):\n",
        "#     def __init__(self, in_type, out_type, latent_type):\n",
        "#         super().__init__()\n",
        "#         self.in_type = in_type\n",
        "#         self.out_type = out_type\n",
        "#         self.latent_type = latent_type\n",
        "\n",
        "#         self.encoder = Encoder(in_type, latent_type)\n",
        "#         self.decoder = Decoder(latent_type, out_type)\n",
        "\n",
        "#     def forward(self, x):\n",
        "#         x = GeometricTensor(x, self.in_type)\n",
        "#         z = self.encoder(x)\n",
        "#         x_hat = self.decoder(z)\n",
        "#         return x_hat.tensor\n"
      ],
      "metadata": {
        "id": "vPbKp2fjrLZo"
      },
      "execution_count": null,
      "outputs": []
    },
    {
      "cell_type": "markdown",
      "source": [
        "# Load dataset"
      ],
      "metadata": {
        "id": "YauIZ8KLA7kY"
      }
    },
    {
      "cell_type": "code",
      "source": [
        "!pip install torch_geometric"
      ],
      "metadata": {
        "colab": {
          "base_uri": "https://localhost:8080/"
        },
        "id": "kMFGRFWv_Q3p",
        "outputId": "d6d3d204-7798-4339-e205-e518fc0ca895"
      },
      "execution_count": null,
      "outputs": [
        {
          "output_type": "stream",
          "name": "stdout",
          "text": [
            "Requirement already satisfied: torch_geometric in /usr/local/lib/python3.10/dist-packages (2.5.3)\n",
            "Requirement already satisfied: tqdm in /usr/local/lib/python3.10/dist-packages (from torch_geometric) (4.66.4)\n",
            "Requirement already satisfied: numpy in /usr/local/lib/python3.10/dist-packages (from torch_geometric) (1.25.2)\n",
            "Requirement already satisfied: scipy in /usr/local/lib/python3.10/dist-packages (from torch_geometric) (1.9.3)\n",
            "Requirement already satisfied: fsspec in /usr/local/lib/python3.10/dist-packages (from torch_geometric) (2023.6.0)\n",
            "Requirement already satisfied: jinja2 in /usr/local/lib/python3.10/dist-packages (from torch_geometric) (3.1.4)\n",
            "Requirement already satisfied: aiohttp in /usr/local/lib/python3.10/dist-packages (from torch_geometric) (3.9.5)\n",
            "Requirement already satisfied: requests in /usr/local/lib/python3.10/dist-packages (from torch_geometric) (2.31.0)\n",
            "Requirement already satisfied: pyparsing in /usr/local/lib/python3.10/dist-packages (from torch_geometric) (3.1.2)\n",
            "Requirement already satisfied: scikit-learn in /usr/local/lib/python3.10/dist-packages (from torch_geometric) (1.2.2)\n",
            "Requirement already satisfied: psutil>=5.8.0 in /usr/local/lib/python3.10/dist-packages (from torch_geometric) (5.9.5)\n",
            "Requirement already satisfied: aiosignal>=1.1.2 in /usr/local/lib/python3.10/dist-packages (from aiohttp->torch_geometric) (1.3.1)\n",
            "Requirement already satisfied: attrs>=17.3.0 in /usr/local/lib/python3.10/dist-packages (from aiohttp->torch_geometric) (23.2.0)\n",
            "Requirement already satisfied: frozenlist>=1.1.1 in /usr/local/lib/python3.10/dist-packages (from aiohttp->torch_geometric) (1.4.1)\n",
            "Requirement already satisfied: multidict<7.0,>=4.5 in /usr/local/lib/python3.10/dist-packages (from aiohttp->torch_geometric) (6.0.5)\n",
            "Requirement already satisfied: yarl<2.0,>=1.0 in /usr/local/lib/python3.10/dist-packages (from aiohttp->torch_geometric) (1.9.4)\n",
            "Requirement already satisfied: async-timeout<5.0,>=4.0 in /usr/local/lib/python3.10/dist-packages (from aiohttp->torch_geometric) (4.0.3)\n",
            "Requirement already satisfied: MarkupSafe>=2.0 in /usr/local/lib/python3.10/dist-packages (from jinja2->torch_geometric) (2.1.5)\n",
            "Requirement already satisfied: charset-normalizer<4,>=2 in /usr/local/lib/python3.10/dist-packages (from requests->torch_geometric) (3.3.2)\n",
            "Requirement already satisfied: idna<4,>=2.5 in /usr/local/lib/python3.10/dist-packages (from requests->torch_geometric) (3.7)\n",
            "Requirement already satisfied: urllib3<3,>=1.21.1 in /usr/local/lib/python3.10/dist-packages (from requests->torch_geometric) (2.0.7)\n",
            "Requirement already satisfied: certifi>=2017.4.17 in /usr/local/lib/python3.10/dist-packages (from requests->torch_geometric) (2024.2.2)\n",
            "Requirement already satisfied: joblib>=1.1.1 in /usr/local/lib/python3.10/dist-packages (from scikit-learn->torch_geometric) (1.4.2)\n",
            "Requirement already satisfied: threadpoolctl>=2.0.0 in /usr/local/lib/python3.10/dist-packages (from scikit-learn->torch_geometric) (3.5.0)\n"
          ]
        }
      ]
    },
    {
      "cell_type": "code",
      "source": [
        "from torch.utils.data import Dataset, DataLoader\n",
        "import torch\n",
        "\n",
        "class LatticeDataset(Dataset):\n",
        "    def __init__(self, data_list, grid_size=(12, 12)):\n",
        "        \"\"\"\n",
        "        data_list is a list of data objects from PyTorch Geometric.\n",
        "        Each data object has 'x' for node types, 'pos' for node positions.\n",
        "        \"\"\"\n",
        "        self.data_list = data_list\n",
        "        self.grid_size = grid_size\n",
        "        self.bounds = self.calculate_bounds()\n",
        "\n",
        "    def calculate_bounds(self):\n",
        "        # Initialize min/max with extreme values\n",
        "        min_pos = torch.tensor([float('inf'), float('inf')])\n",
        "        max_pos = torch.tensor([-float('inf'), -float('inf')])\n",
        "\n",
        "        # Calculate the min and max positions\n",
        "        for data in self.data_list:\n",
        "            min_pos = torch.min(min_pos, torch.min(data.coords, dim=0).values)\n",
        "            max_pos = torch.max(max_pos, torch.max(data.coords, dim=0).values)\n",
        "\n",
        "        return min_pos, max_pos\n",
        "\n",
        "    def normalize_positions(self, positions):\n",
        "        # Normalize positions to fit within the grid size\n",
        "        min_pos, max_pos = self.bounds\n",
        "        scale = torch.tensor(self.grid_size) - 1\n",
        "        normalized_pos = (positions - min_pos) / (max_pos - min_pos) * scale\n",
        "        return normalized_pos.long()\n",
        "\n",
        "    def __len__(self):\n",
        "        return len(self.data_list)\n",
        "\n",
        "    def __getitem__(self, idx):\n",
        "        data = self.data_list[idx]\n",
        "        grid = torch.zeros((1, *self.grid_size), dtype=torch.float32)\n",
        "\n",
        "        # Normalize positions\n",
        "        normalized_positions = self.normalize_positions(data.coords)\n",
        "\n",
        "        # Place features into the grid\n",
        "        for pos, feature in zip(normalized_positions, data.x):\n",
        "            x, y = pos[0], pos[1]\n",
        "            grid[0, y, x] = feature\n",
        "        return grid, grid\n",
        "\n",
        "# Usage with data\n",
        "train_data = torch.load('ising_train.pt')\n",
        "val_data = torch.load('ising_val.pt')\n",
        "\n",
        "train_dataset = LatticeDataset(train_data)\n",
        "val_dataset = LatticeDataset(val_data)\n",
        "\n",
        "train_loader = DataLoader(train_dataset, batch_size=32, shuffle=True)\n",
        "val_loader = DataLoader(val_dataset, batch_size=32, shuffle=False)\n"
      ],
      "metadata": {
        "id": "BlB_ynMQktLr"
      },
      "execution_count": null,
      "outputs": []
    },
    {
      "cell_type": "code",
      "source": [
        "# from torch.utils.data import Dataset, DataLoader\n",
        "# import torch\n",
        "# # dataset for Regular Repr with 8 channels\n",
        "# class LatticeDataset(Dataset):\n",
        "#     def __init__(self, data_list, grid_size=(12, 12), num_channels=8, gspace=None):\n",
        "#         \"\"\"\n",
        "#         data_list is a list of data objects from PyTorch Geometric.\n",
        "#         Each data object should have 'x' for node types, 'pos' for node positions.\n",
        "#         \"\"\"\n",
        "#         self.data_list = data_list\n",
        "#         self.grid_size = grid_size\n",
        "#         self.num_channels = num_channels\n",
        "#         self.bounds = self.calculate_bounds()\n",
        "#         self.gspace = gspace\n",
        "#         self.field_type = FieldType(self.gspace, [self.gspace.regular_repr])\n",
        "\n",
        "\n",
        "#     def calculate_bounds(self):\n",
        "#         # Initialize min/max with extreme values\n",
        "#         min_pos = torch.tensor([float('inf'), float('inf')])\n",
        "#         max_pos = torch.tensor([-float('inf'), -float('inf')])\n",
        "\n",
        "#         # Calculate the min and max positions\n",
        "#         for data in self.data_list:\n",
        "#             min_pos = torch.min(min_pos, torch.min(data.coords, dim=0).values)\n",
        "#             max_pos = torch.max(max_pos, torch.max(data.coords, dim=0).values)\n",
        "\n",
        "#         return min_pos, max_pos\n",
        "\n",
        "#     def normalize_positions(self, positions):\n",
        "#         # Normalize positions to fit within the grid size\n",
        "#         min_pos, max_pos = self.bounds\n",
        "#         scale = torch.tensor(self.grid_size) - 1\n",
        "#         normalized_pos = (positions - min_pos) / (max_pos - min_pos) * scale\n",
        "#         return normalized_pos.long()\n",
        "\n",
        "#     def __len__(self):\n",
        "#         return len(self.data_list)\n",
        "\n",
        "#     def __getitem__(self, idx):\n",
        "#         data = self.data_list[idx]\n",
        "#         grid = torch.zeros((self.num_channels, *self.grid_size), dtype=torch.float32)\n",
        "\n",
        "#         # Normalize positions\n",
        "#         normalized_positions = self.normalize_positions(data.coords)\n",
        "\n",
        "#         # Place features into the grid\n",
        "#         for pos, feature in zip(normalized_positions, data.x):\n",
        "#             x, y = pos[0], pos[1]\n",
        "#             grid[:, y, x] = feature * torch.ones(self.num_channels)  # Replicate the feature across all channels, for reg rep\n",
        "\n",
        "#        # **ADDED****: Wrap the grid in a GeometricTensor\n",
        "#         grid = GeometricTensor(grid, self.field_type)\n",
        "\n",
        "#         return grid, grid\n",
        "\n",
        "# # Usage with data\n",
        "# gspace = flipRot2dOnR2(N=4)  # For N=4 rotation symmetry\n",
        "\n",
        "# train_data = torch.load('12x12_train.pt')\n",
        "# val_data = torch.load('12x12_val.pt')\n",
        "\n",
        "# train_dataset = LatticeDataset(train_data, gspace=gspace)\n",
        "# val_dataset = LatticeDataset(val_data, gspace=gspace)\n",
        "\n",
        "# train_loader = DataLoader(train_dataset, batch_size=32, shuffle=True)\n",
        "# val_loader = DataLoader(val_dataset, batch_size=32, shuffle=False)\n",
        "\n"
      ],
      "metadata": {
        "id": "LEuiAb-876-j"
      },
      "execution_count": null,
      "outputs": []
    },
    {
      "cell_type": "code",
      "source": [
        "import matplotlib.pyplot as plt\n",
        "# Plotting Dataset\n",
        "\n",
        "def plot_lattices(lattice_batch, num_images=6, title='Lattice Grid'):\n",
        "    \"\"\"\n",
        "    Plots a batch of lattices as images.\n",
        "\n",
        "    :param lattice_batch: A batch of lattice data as tensors.\n",
        "    :param num_images: Number of images to plot from the batch.\n",
        "    :param title: Title for the plot.\n",
        "    \"\"\"\n",
        "    fig, axes = plt.subplots(1, num_images, figsize=(15, 3))\n",
        "    for i, ax in enumerate(axes):\n",
        "        if i >= len(lattice_batch):\n",
        "            break\n",
        "        # Assume lattice_batch[i] is a tensor of shape (1, height, width)\n",
        "        # We use squeeze to drop the first dimension for plotting\n",
        "        ax.imshow(lattice_batch[i].squeeze(), cmap='viridis', interpolation='none')\n",
        "        ax.axis('off')\n",
        "    plt.suptitle(title)\n",
        "    plt.show()\n",
        "\n",
        "# Example of using the function with a DataLoader\n",
        "data_loader = DataLoader(train_dataset, batch_size=6, shuffle=True)\n",
        "for lattice_batch, _ in data_loader:\n",
        "    plot_lattices(lattice_batch, num_images=6, title='Sample Lattice Grids')\n",
        "    break  # Just plot one batch for example\n"
      ],
      "metadata": {
        "id": "i4GG3hMuxrTI",
        "colab": {
          "base_uri": "https://localhost:8080/",
          "height": 265
        },
        "outputId": "69674457-0cb5-4a0e-9074-eca503d88067"
      },
      "execution_count": null,
      "outputs": [
        {
          "output_type": "display_data",
          "data": {
            "text/plain": [
              "<Figure size 1500x300 with 6 Axes>"
            ],
            "image/png": "[encoded data removed]"
          },
          "metadata": {}
        }
      ]
    },
    {
      "cell_type": "markdown",
      "source": [
        "# Train model"
      ],
      "metadata": {
        "id": "kQPzSvDt2z2H"
      }
    },
    {
      "cell_type": "code",
      "source": [
        "num_params = sum(p.numel() for p in model.parameters())\n",
        "print(num_params)\n"
      ],
      "metadata": {
        "colab": {
          "base_uri": "https://localhost:8080/"
        },
        "id": "zWDPyGxhetEU",
        "outputId": "929f3da5-3344-4866-fe61-ba85655ce9cf"
      },
      "execution_count": null,
      "outputs": [
        {
          "output_type": "stream",
          "name": "stdout",
          "text": [
            "198100\n"
          ]
        }
      ]
    },
    {
      "cell_type": "code",
      "source": [
        "import torch.optim as optim\n",
        "from torch.optim.lr_scheduler import StepLR\n",
        "import torch.nn.functional as F\n",
        "import matplotlib.pyplot as plt\n",
        "\n",
        "device = torch.device(\"cuda\" if torch.cuda.is_available() else \"cpu\")\n",
        "print(f\"Training on device: {device}\")\n",
        "\n",
        "# Init model with Trivial Rep\n",
        "in_type = FieldType(flipRot2dOnR2(N=4), [flipRot2dOnR2(N=4).trivial_repr])\n",
        "latent_type = FieldType(flipRot2dOnR2(N=4), [flipRot2dOnR2(N=4).trivial_repr])\n",
        "out_type = FieldType(flipRot2dOnR2(N=4), [flipRot2dOnR2(N=4).trivial_repr]*2)\n",
        "\n",
        "# # Initialize FieldTypes with regular representations\n",
        "# g = flipRot2dOnR2(N=4)  # Group with N-fold rotational symmetry\n",
        "# in_type = FieldType(g, [g.regular_repr])  # Using regular representation for input\n",
        "# latent_type = FieldType(g, [g.regular_repr] * 8)  # Latent space\n",
        "# out_type = FieldType(g, [g.regular_repr] * 2)  # Output\n",
        "\n",
        "model = AutoEncoder(in_type, out_type, latent_type)\n",
        "\n",
        "\n",
        "model = model.to(device)\n",
        "criterion = nn.CrossEntropyLoss()  # Loss function\n",
        "optimizer = optim.Adam(model.parameters(), lr=0.01)  # Optimizer\n",
        "\n",
        "# Define learning rate scheduler\n",
        "# scheduler = StepLR(optimizer, step_size=10, gamma=0.2)\n",
        "\n",
        "num_epochs = 50\n",
        "train_losses = []\n",
        "val_losses = []\n",
        "val_accuracies = []\n",
        "\n",
        "for epoch in range(num_epochs):\n",
        "    model.train()  # Set model to training mode\n",
        "    train_loss = 0\n",
        "\n",
        "    for inputs, targets in train_loader:\n",
        "        inputs, targets = inputs.to(device), targets.to(device).squeeze().long()\n",
        "\n",
        "        # Forward pass\n",
        "        outputs = model(inputs)\n",
        "        loss = criterion(outputs, targets)\n",
        "\n",
        "        # Backward pass and optimize\n",
        "        optimizer.zero_grad()\n",
        "        loss.backward()\n",
        "        optimizer.step()\n",
        "\n",
        "        train_loss += loss.item() * inputs.size(0)\n",
        "\n",
        "    train_loss /= len(train_loader.dataset)\n",
        "    train_losses.append(train_loss)\n",
        "\n",
        "    # Update learning rate\n",
        "    # scheduler.step()\n",
        "\n",
        "    # Validation phase\n",
        "    val_loss = 0\n",
        "    val_acc = 0\n",
        "    model.eval()  # Set model to evaluation mode\n",
        "    with torch.no_grad():\n",
        "        for inputs, targets in val_loader:\n",
        "            inputs, targets = inputs.to(device), targets.to(device).squeeze().long()\n",
        "            outputs = model(inputs)\n",
        "            loss = criterion(outputs, targets)\n",
        "            val_loss += loss.item() * inputs.size(0)\n",
        "\n",
        "            val_acc += (F.softmax(outputs, dim=1).argmax(dim=1) == targets).sum().float()\n",
        "\n",
        "    val_loss /= len(val_loader.dataset)\n",
        "    val_acc /= (len(val_loader.dataset) * 144)\n",
        "    val_losses.append(val_loss)\n",
        "    val_accuracies.append(val_acc)\n",
        "\n",
        "    # if epoch % 5 == 0:\n",
        "    print(f\"Epoch {epoch+1}/{num_epochs}, Train Loss: {train_loss:.4f}, Validation Loss: {val_loss:.4f}, Validation Node Type Accuracy: {val_acc:.4f}\")\n",
        "\n"
      ],
      "metadata": {
        "colab": {
          "base_uri": "https://localhost:8080/"
        },
        "id": "0eZMYuh2sQ-C",
        "outputId": "6de31719-3783-4cef-d0ca-00ea10e519e7"
      },
      "execution_count": null,
      "outputs": [
        {
          "output_type": "stream",
          "name": "stdout",
          "text": [
            "Training on device: cpu\n",
            "Epoch 1/50, Train Loss: 0.5469, Validation Loss: 0.4669, Validation Node Type Accuracy: 0.7674\n",
            "Epoch 2/50, Train Loss: 0.4478, Validation Loss: 0.4342, Validation Node Type Accuracy: 0.7873\n",
            "Epoch 3/50, Train Loss: 0.4207, Validation Loss: 0.4123, Validation Node Type Accuracy: 0.7970\n",
            "Epoch 4/50, Train Loss: 0.4050, Validation Loss: 0.4021, Validation Node Type Accuracy: 0.8008\n",
            "Epoch 5/50, Train Loss: 0.3976, Validation Loss: 0.4004, Validation Node Type Accuracy: 0.8024\n",
            "Epoch 6/50, Train Loss: 0.3920, Validation Loss: 0.3931, Validation Node Type Accuracy: 0.8061\n",
            "Epoch 7/50, Train Loss: 0.3861, Validation Loss: 0.3945, Validation Node Type Accuracy: 0.8037\n",
            "Epoch 8/50, Train Loss: 0.3838, Validation Loss: 0.3893, Validation Node Type Accuracy: 0.8071\n",
            "Epoch 9/50, Train Loss: 0.3818, Validation Loss: 0.3962, Validation Node Type Accuracy: 0.8049\n",
            "Epoch 10/50, Train Loss: 0.3789, Validation Loss: 0.3860, Validation Node Type Accuracy: 0.8072\n",
            "Epoch 11/50, Train Loss: 0.3738, Validation Loss: 0.3893, Validation Node Type Accuracy: 0.8077\n",
            "Epoch 12/50, Train Loss: 0.3726, Validation Loss: 0.3875, Validation Node Type Accuracy: 0.8091\n",
            "Epoch 13/50, Train Loss: 0.3710, Validation Loss: 0.3886, Validation Node Type Accuracy: 0.8084\n",
            "Epoch 14/50, Train Loss: 0.3683, Validation Loss: 0.3895, Validation Node Type Accuracy: 0.8083\n",
            "Epoch 15/50, Train Loss: 0.3680, Validation Loss: 0.3828, Validation Node Type Accuracy: 0.8104\n",
            "Epoch 16/50, Train Loss: 0.3637, Validation Loss: 0.3864, Validation Node Type Accuracy: 0.8095\n",
            "Epoch 17/50, Train Loss: 0.3629, Validation Loss: 0.3925, Validation Node Type Accuracy: 0.8070\n",
            "Epoch 18/50, Train Loss: 0.3638, Validation Loss: 0.3899, Validation Node Type Accuracy: 0.8090\n",
            "Epoch 19/50, Train Loss: 0.3612, Validation Loss: 0.3855, Validation Node Type Accuracy: 0.8099\n",
            "Epoch 20/50, Train Loss: 0.3591, Validation Loss: 0.3892, Validation Node Type Accuracy: 0.8091\n",
            "Epoch 21/50, Train Loss: 0.3573, Validation Loss: 0.3862, Validation Node Type Accuracy: 0.8085\n",
            "Epoch 22/50, Train Loss: 0.3577, Validation Loss: 0.3889, Validation Node Type Accuracy: 0.8079\n",
            "Epoch 23/50, Train Loss: 0.3545, Validation Loss: 0.3843, Validation Node Type Accuracy: 0.8093\n",
            "Epoch 24/50, Train Loss: 0.3542, Validation Loss: 0.3920, Validation Node Type Accuracy: 0.8080\n",
            "Epoch 25/50, Train Loss: 0.3545, Validation Loss: 0.3863, Validation Node Type Accuracy: 0.8096\n",
            "Epoch 26/50, Train Loss: 0.3509, Validation Loss: 0.3919, Validation Node Type Accuracy: 0.8076\n",
            "Epoch 27/50, Train Loss: 0.3516, Validation Loss: 0.3869, Validation Node Type Accuracy: 0.8095\n",
            "Epoch 28/50, Train Loss: 0.3506, Validation Loss: 0.3936, Validation Node Type Accuracy: 0.8078\n",
            "Epoch 29/50, Train Loss: 0.3485, Validation Loss: 0.3879, Validation Node Type Accuracy: 0.8093\n",
            "Epoch 30/50, Train Loss: 0.3480, Validation Loss: 0.4007, Validation Node Type Accuracy: 0.8048\n",
            "Epoch 31/50, Train Loss: 0.3467, Validation Loss: 0.3894, Validation Node Type Accuracy: 0.8067\n",
            "Epoch 32/50, Train Loss: 0.3445, Validation Loss: 0.3934, Validation Node Type Accuracy: 0.8066\n",
            "Epoch 33/50, Train Loss: 0.3444, Validation Loss: 0.3904, Validation Node Type Accuracy: 0.8089\n",
            "Epoch 34/50, Train Loss: 0.3429, Validation Loss: 0.3921, Validation Node Type Accuracy: 0.8063\n",
            "Epoch 35/50, Train Loss: 0.3440, Validation Loss: 0.3932, Validation Node Type Accuracy: 0.8073\n",
            "Epoch 36/50, Train Loss: 0.3422, Validation Loss: 0.3967, Validation Node Type Accuracy: 0.8062\n",
            "Epoch 37/50, Train Loss: 0.3395, Validation Loss: 0.3983, Validation Node Type Accuracy: 0.8062\n",
            "Epoch 38/50, Train Loss: 0.3403, Validation Loss: 0.3979, Validation Node Type Accuracy: 0.8046\n",
            "Epoch 39/50, Train Loss: 0.3391, Validation Loss: 0.3973, Validation Node Type Accuracy: 0.8072\n",
            "Epoch 40/50, Train Loss: 0.3370, Validation Loss: 0.3968, Validation Node Type Accuracy: 0.8055\n",
            "Epoch 41/50, Train Loss: 0.3363, Validation Loss: 0.3978, Validation Node Type Accuracy: 0.8075\n",
            "Epoch 42/50, Train Loss: 0.3336, Validation Loss: 0.4033, Validation Node Type Accuracy: 0.8034\n",
            "Epoch 43/50, Train Loss: 0.3343, Validation Loss: 0.4038, Validation Node Type Accuracy: 0.8052\n",
            "Epoch 44/50, Train Loss: 0.3327, Validation Loss: 0.3994, Validation Node Type Accuracy: 0.8073\n",
            "Epoch 45/50, Train Loss: 0.3318, Validation Loss: 0.4031, Validation Node Type Accuracy: 0.8048\n",
            "Epoch 46/50, Train Loss: 0.3319, Validation Loss: 0.4076, Validation Node Type Accuracy: 0.8034\n",
            "Epoch 47/50, Train Loss: 0.3328, Validation Loss: 0.4044, Validation Node Type Accuracy: 0.8066\n",
            "Epoch 48/50, Train Loss: 0.3290, Validation Loss: 0.4034, Validation Node Type Accuracy: 0.8052\n",
            "Epoch 49/50, Train Loss: 0.3293, Validation Loss: 0.4105, Validation Node Type Accuracy: 0.8033\n",
            "Epoch 50/50, Train Loss: 0.3272, Validation Loss: 0.4069, Validation Node Type Accuracy: 0.8054\n"
          ]
        }
      ]
    },
    {
      "cell_type": "code",
      "source": [
        "# Plotting the training and validation loss\n",
        "plt.figure(figsize=(3,2))\n",
        "plt.plot(train_losses, label='Training Loss')\n",
        "plt.plot(val_losses, label='Validation Loss')\n",
        "plt.xlabel('Epochs')\n",
        "plt.ylabel('Loss')\n",
        "plt.title('Training and Validation Loss')\n",
        "plt.legend()\n",
        "plt.grid(True)\n",
        "plt.show()\n",
        "\n",
        "# Optionally, plot the validation accuracy\n",
        "plt.figure(figsize=(3,2))\n",
        "plt.plot(val_accuracies, label='Validation Accuracy')\n",
        "plt.xlabel('Epochs')\n",
        "plt.ylabel('Accuracy')\n",
        "plt.title('Validation Accuracy over Epochs')\n",
        "plt.legend()\n",
        "plt.grid(True)\n",
        "plt.show()"
      ],
      "metadata": {
        "colab": {
          "base_uri": "https://localhost:8080/",
          "height": 495
        },
        "id": "G6wn3dJmAik2",
        "outputId": "bf9314df-4a4d-4a37-8709-da3c356ba6e0"
      },
      "execution_count": null,
      "outputs": [
        {
          "output_type": "display_data",
          "data": {
            "text/plain": [
              "<Figure size 300x200 with 1 Axes>"
            ],
            "image/png": "[encoded data removed]"
          },
          "metadata": {}
        },
        {
          "output_type": "display_data",
          "data": {
            "text/plain": [
              "<Figure size 300x200 with 1 Axes>"
            ],
            "image/png": "[encoded data removed]"
          },
          "metadata": {}
        }
      ]
    },
    {
      "cell_type": "code",
      "source": [
        "# saving losses\n",
        "import pickle\n",
        "\n",
        "# Save train and validation losses\n",
        "with open('/content/train_losses.pkl', 'wb') as f:\n",
        "    pickle.dump(train_losses, f)\n",
        "\n",
        "with open('/content/val_losses.pkl', 'wb') as f:\n",
        "    pickle.dump(val_losses, f)\n"
      ],
      "metadata": {
        "id": "REM6tC_l3J0h"
      },
      "execution_count": null,
      "outputs": []
    },
    {
      "cell_type": "code",
      "source": [
        "from google.colab import files\n",
        "\n",
        "# Download files\n",
        "files.download('/content/train_losses.pkl')\n",
        "files.download('/content/val_losses.pkl')\n",
        "\n"
      ],
      "metadata": {
        "colab": {
          "base_uri": "https://localhost:8080/",
          "height": 17
        },
        "id": "UIZZGss59rVn",
        "outputId": "5a53fe44-7fae-451c-c707-718b09ca9cc9"
      },
      "execution_count": null,
      "outputs": [
        {
          "output_type": "display_data",
          "data": {
            "text/plain": [
              "<IPython.core.display.Javascript object>"
            ],
            "application/javascript": [
              "\n",
              "    async function download(id, filename, size) {\n",
              "      if (!google.colab.kernel.accessAllowed) {\n",
              "        return;\n",
              "      }\n",
              "      const div = document.createElement('div');\n",
              "      const label = document.createElement('label');\n",
              "      label.textContent = `Downloading \"${filename}\": `;\n",
              "      div.appendChild(label);\n",
              "      const progress = document.createElement('progress');\n",
              "      progress.max = size;\n",
              "      div.appendChild(progress);\n",
              "      document.body.appendChild(div);\n",
              "\n",
              "      const buffers = [];\n",
              "      let downloaded = 0;\n",
              "\n",
              "      const channel = await google.colab.kernel.comms.open(id);\n",
              "      // Send a message to notify the kernel that we're ready.\n",
              "      channel.send({})\n",
              "\n",
              "      for await (const message of channel.messages) {\n",
              "        // Send a message to notify the kernel that we're ready.\n",
              "        channel.send({})\n",
              "        if (message.buffers) {\n",
              "          for (const buffer of message.buffers) {\n",
              "            buffers.push(buffer);\n",
              "            downloaded += buffer.byteLength;\n",
              "            progress.value = downloaded;\n",
              "          }\n",
              "        }\n",
              "      }\n",
              "      const blob = new Blob(buffers, {type: 'application/binary'});\n",
              "      const a = document.createElement('a');\n",
              "      a.href = window.URL.createObjectURL(blob);\n",
              "      a.download = filename;\n",
              "      div.appendChild(a);\n",
              "      a.click();\n",
              "      div.remove();\n",
              "    }\n",
              "  "
            ]
          },
          "metadata": {}
        },
        {
          "output_type": "display_data",
          "data": {
            "text/plain": [
              "<IPython.core.display.Javascript object>"
            ],
            "application/javascript": [
              "download(\"download_68c85c7c-9b98-4901-aff4-256247ee4b09\", \"train_losses.pkl\", 916)"
            ]
          },
          "metadata": {}
        },
        {
          "output_type": "display_data",
          "data": {
            "text/plain": [
              "<IPython.core.display.Javascript object>"
            ],
            "application/javascript": [
              "\n",
              "    async function download(id, filename, size) {\n",
              "      if (!google.colab.kernel.accessAllowed) {\n",
              "        return;\n",
              "      }\n",
              "      const div = document.createElement('div');\n",
              "      const label = document.createElement('label');\n",
              "      label.textContent = `Downloading \"${filename}\": `;\n",
              "      div.appendChild(label);\n",
              "      const progress = document.createElement('progress');\n",
              "      progress.max = size;\n",
              "      div.appendChild(progress);\n",
              "      document.body.appendChild(div);\n",
              "\n",
              "      const buffers = [];\n",
              "      let downloaded = 0;\n",
              "\n",
              "      const channel = await google.colab.kernel.comms.open(id);\n",
              "      // Send a message to notify the kernel that we're ready.\n",
              "      channel.send({})\n",
              "\n",
              "      for await (const message of channel.messages) {\n",
              "        // Send a message to notify the kernel that we're ready.\n",
              "        channel.send({})\n",
              "        if (message.buffers) {\n",
              "          for (const buffer of message.buffers) {\n",
              "            buffers.push(buffer);\n",
              "            downloaded += buffer.byteLength;\n",
              "            progress.value = downloaded;\n",
              "          }\n",
              "        }\n",
              "      }\n",
              "      const blob = new Blob(buffers, {type: 'application/binary'});\n",
              "      const a = document.createElement('a');\n",
              "      a.href = window.URL.createObjectURL(blob);\n",
              "      a.download = filename;\n",
              "      div.appendChild(a);\n",
              "      a.click();\n",
              "      div.remove();\n",
              "    }\n",
              "  "
            ]
          },
          "metadata": {}
        },
        {
          "output_type": "display_data",
          "data": {
            "text/plain": [
              "<IPython.core.display.Javascript object>"
            ],
            "application/javascript": [
              "download(\"download_d79d77cd-7354-41dc-b83a-b9cc339672b9\", \"val_losses.pkl\", 916)"
            ]
          },
          "metadata": {}
        }
      ]
    },
    {
      "cell_type": "code",
      "source": [],
      "metadata": {
        "id": "GHUnojGR9zHh"
      },
      "execution_count": null,
      "outputs": []
    }
  ]
}